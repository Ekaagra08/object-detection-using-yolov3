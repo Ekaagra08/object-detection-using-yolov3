{
 "cells": [
  {
   "cell_type": "code",
   "execution_count": 1,
   "metadata": {},
   "outputs": [],
   "source": [
    "import numpy as np\n",
    "import cv2 as cv"
   ]
  },
  {
   "cell_type": "code",
   "execution_count": 2,
   "metadata": {},
   "outputs": [],
   "source": [
    "net=cv.dnn.readNet('yolo_req/yolov3.weights','yolo_req/yolov3_config.cfg')"
   ]
  },
  {
   "cell_type": "code",
   "execution_count": 3,
   "metadata": {},
   "outputs": [],
   "source": [
    "classes = open('yolo_req/coco_lable.txt').read().strip().split(\"\\n\")"
   ]
  },
  {
   "cell_type": "code",
   "execution_count": 4,
   "metadata": {},
   "outputs": [
    {
     "data": {
      "text/plain": [
       "['person',\n",
       " 'bicycle',\n",
       " 'car',\n",
       " 'motorbike',\n",
       " 'aeroplane',\n",
       " 'bus',\n",
       " 'train',\n",
       " 'truck',\n",
       " 'boat',\n",
       " 'traffic light']"
      ]
     },
     "execution_count": 4,
     "metadata": {},
     "output_type": "execute_result"
    }
   ],
   "source": [
    "classes[:10]"
   ]
  },
  {
   "cell_type": "code",
   "execution_count": 5,
   "metadata": {},
   "outputs": [],
   "source": [
    "cap=cv.VideoCapture(0)\n",
    "\n",
    "while True:\n",
    "    _,img=cap.read()\n",
    "    #img=cv.imread('images/busy_street.jpg')\n",
    "\n",
    "    height,width,depth=img.shape\n",
    "\n",
    "    #image pre-proessing\n",
    "\n",
    "    #normalizing by dividing with 255\n",
    "    #converting BGR to RGB\n",
    "    blob=cv.dnn.blobFromImage(img,1/255, (416,416), (0,0,0), swapRB=True, crop=False)\n",
    "\n",
    "    net.setInput(blob)\n",
    "    op_layers_names=net.getUnconnectedOutLayersNames()\n",
    "    layer_outputs=net.forward(op_layers_names)\n",
    "\n",
    "    boxes=[]\n",
    "    predictions=[]\n",
    "    class_ids=[]\n",
    "\n",
    "    for op in layer_outputs:\n",
    "        #the first 5 elements of the detected objs are the 4 co-ordinates of boxes and 1 accuracy of bounding box \n",
    "        #rest of the 80 elements are the pred score of different classes\n",
    "        for detected in op:\n",
    "            preds=detected[5:]\n",
    "            class_id=np.argmax(preds)\n",
    "            max_preds=preds[class_id]\n",
    "            if max_preds>0.5:\n",
    "                cx=int(detected[0]*width)\n",
    "                cy=int(detected[1]*height)\n",
    "                h=int(detected[2]*width)\n",
    "                w=int(detected[3]*height)\n",
    "\n",
    "                x=int(cx-w/2)\n",
    "                y=int(cy-h/2)\n",
    "\n",
    "                boxes.append([x,y,w,h])\n",
    "                predictions.append(float(max_preds))\n",
    "                class_ids.append(class_id)\n",
    "\n",
    "\n",
    "    indexes=cv.dnn.NMSBoxes(boxes,predictions,0.5,0.4)\n",
    "\n",
    "    colors=np.random.uniform(0,255,size=(len(boxes),3))\n",
    "    \n",
    "    if len(indexes)>0:\n",
    "        for i in indexes.flatten():\n",
    "            x,y,w,h=boxes[i]\n",
    "            lable=str(classes[class_ids[i]])\n",
    "            text=\"{}, {:.2f}%\".format(lable,predictions[i]*100)\n",
    "            color=colors[i]\n",
    "            cv.rectangle(img,(x,y),(x+w,y+h),color,2)\n",
    "            cv.putText(img,text, (x,y+20), cv.FONT_HERSHEY_PLAIN, 2, (255,255,255), 2)\n",
    "\n",
    "        cv.imshow('Image',img)\n",
    "        key=cv.waitKey(1)\n",
    "        if key==27:\n",
    "            break\n",
    "        \n",
    "cap.release()   \n",
    "cv.destroyAllWindows()\n",
    "\n",
    "\n",
    "\n",
    "\n",
    "\n"
   ]
  },
  {
   "cell_type": "code",
   "execution_count": null,
   "metadata": {},
   "outputs": [],
   "source": []
  }
 ],
 "metadata": {
  "kernelspec": {
   "display_name": "Python 3",
   "language": "python",
   "name": "python3"
  },
  "language_info": {
   "codemirror_mode": {
    "name": "ipython",
    "version": 3
   },
   "file_extension": ".py",
   "mimetype": "text/x-python",
   "name": "python",
   "nbconvert_exporter": "python",
   "pygments_lexer": "ipython3",
   "version": "3.8.5"
  }
 },
 "nbformat": 4,
 "nbformat_minor": 4
}
