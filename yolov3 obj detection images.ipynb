{
 "cells": [
  {
   "cell_type": "code",
   "execution_count": 1,
   "metadata": {},
   "outputs": [],
   "source": [
    "import numpy as np\n",
    "import cv2 as cv"
   ]
  },
  {
   "cell_type": "code",
   "execution_count": 2,
   "metadata": {},
   "outputs": [],
   "source": [
    "net=cv.dnn.readNet('yolo_req/yolov3.weights','yolo_req/yolov3_config.cfg')"
   ]
  },
  {
   "cell_type": "code",
   "execution_count": 3,
   "metadata": {},
   "outputs": [],
   "source": [
    "classes = open('yolo_req/coco_lable.txt').read().strip().split(\"\\n\")"
   ]
  },
  {
   "cell_type": "code",
   "execution_count": 4,
   "metadata": {},
   "outputs": [
    {
     "data": {
      "text/plain": [
       "['person',\n",
       " 'bicycle',\n",
       " 'car',\n",
       " 'motorbike',\n",
       " 'aeroplane',\n",
       " 'bus',\n",
       " 'train',\n",
       " 'truck',\n",
       " 'boat',\n",
       " 'traffic light']"
      ]
     },
     "execution_count": 4,
     "metadata": {},
     "output_type": "execute_result"
    }
   ],
   "source": [
    "classes[:10]"
   ]
  },
  {
   "cell_type": "code",
   "execution_count": 5,
   "metadata": {},
   "outputs": [
    {
     "name": "stdout",
     "output_type": "stream",
     "text": [
      "319 480 3\n"
     ]
    }
   ],
   "source": [
    "#input img\n",
    "img=cv.imread('images/busy_street.jpg')\n",
    "\n",
    "height,width,depth=img.shape\n",
    "print(height,width,depth)"
   ]
  },
  {
   "cell_type": "code",
   "execution_count": 6,
   "metadata": {},
   "outputs": [
    {
     "data": {
      "text/plain": [
       "(1, 3, 416, 416)"
      ]
     },
     "execution_count": 6,
     "metadata": {},
     "output_type": "execute_result"
    }
   ],
   "source": [
    "#image pre-proessing\n",
    "\n",
    "#normalizing by dividing with 255\n",
    "#converting BGR to RGB\n",
    "blob=cv.dnn.blobFromImage(img,1/255, (416,416), (0,0,0), swapRB=True, crop=False)\n",
    "blob.shape"
   ]
  },
  {
   "cell_type": "code",
   "execution_count": 7,
   "metadata": {},
   "outputs": [],
   "source": [
    "#giving input to yolo model\n",
    "net.setInput(blob)\n",
    "\n",
    "#get names of layers with unconnected outputs and run forward pass\n",
    "op_layers_names=net.getUnconnectedOutLayersNames()\n",
    "layer_outputs=net.forward(op_layers_names)"
   ]
  },
  {
   "cell_type": "code",
   "execution_count": 8,
   "metadata": {},
   "outputs": [
    {
     "data": {
      "text/plain": [
       "(507, 85)"
      ]
     },
     "execution_count": 8,
     "metadata": {},
     "output_type": "execute_result"
    }
   ],
   "source": [
    "layer_outputs[0].shape"
   ]
  },
  {
   "cell_type": "code",
   "execution_count": 9,
   "metadata": {},
   "outputs": [],
   "source": [
    "boxes=[]\n",
    "predictions=[]\n",
    "class_ids=[]"
   ]
  },
  {
   "cell_type": "code",
   "execution_count": 10,
   "metadata": {},
   "outputs": [
    {
     "name": "stdout",
     "output_type": "stream",
     "text": [
      "96.95344567298889\n",
      "73.20223450660706\n",
      "84.99931693077087\n",
      "98.61513376235962\n",
      "92.51368641853333\n",
      "88.63757848739624\n",
      "67.39851236343384\n",
      "53.73169183731079\n",
      "99.1942048072815\n",
      "99.7689962387085\n",
      "88.18381428718567\n",
      "97.73658514022827\n",
      "72.576242685318\n",
      "76.65911912918091\n",
      "99.42471981048584\n",
      "98.41717481613159\n",
      "87.35307455062866\n",
      "88.12482953071594\n",
      "94.44882869720459\n",
      "90.90522527694702\n",
      "97.69986271858215\n",
      "90.4704749584198\n",
      "92.26205945014954\n",
      "99.6333360671997\n",
      "99.06739592552185\n",
      "66.10188484191895\n",
      "96.02367281913757\n",
      "83.62448811531067\n",
      "76.3612687587738\n",
      "99.74853992462158\n",
      "71.73553705215454\n",
      "69.93042826652527\n",
      "84.0991735458374\n",
      "57.32426643371582\n",
      "61.30307912826538\n",
      "66.45187735557556\n",
      "59.96044874191284\n",
      "90.11235237121582\n",
      "80.8457612991333\n",
      "91.57910943031311\n",
      "62.16574311256409\n",
      "60.9795868396759\n",
      "65.62705636024475\n",
      "94.35933828353882\n",
      "87.3913586139679\n",
      "82.53733515739441\n",
      "95.31622529029846\n",
      "97.89945483207703\n",
      "95.09103894233704\n",
      "53.313493728637695\n",
      "51.69926881790161\n",
      "69.58565711975098\n",
      "71.55404090881348\n",
      "61.339592933654785\n",
      "92.42700934410095\n",
      "69.99593377113342\n",
      "83.49579572677612\n",
      "79.67222929000854\n",
      "78.03338766098022\n",
      "65.89742302894592\n",
      "78.24335098266602\n",
      "83.66773724555969\n",
      "93.07548999786377\n",
      "98.20940494537354\n",
      "80.45979142189026\n",
      "89.16848301887512\n",
      "95.16370892524719\n",
      "91.51174426078796\n",
      "92.85939931869507\n",
      "98.65581393241882\n",
      "60.306793451309204\n",
      "54.225850105285645\n",
      "98.39621782302856\n",
      "67.54574179649353\n",
      "94.46436762809753\n"
     ]
    }
   ],
   "source": [
    "for op in layer_outputs:\n",
    "    #the first 5 elements of the detected objs are the 4 co-ordinates of boxes and 1 accuracy of bounding box \n",
    "    #rest of the 80 elements are the prediction score of different classes\n",
    "    for detected in op:\n",
    "        preds=detected[5:]\n",
    "        class_id=np.argmax(preds)\n",
    "        max_preds=preds[class_id]\n",
    "        if max_preds>0.5:\n",
    "            cx=int(detected[0]*width)\n",
    "            cy=int(detected[1]*height)\n",
    "            h=int(detected[2]*width)\n",
    "            w=int(detected[3]*height)\n",
    "            \n",
    "            x=int(cx-w/2)\n",
    "            y=int(cy-h/2)\n",
    "            \n",
    "            boxes.append([x,y,w,h])\n",
    "            predictions.append(float(max_preds))\n",
    "            class_ids.append(class_id)\n",
    "            print(float(max_preds)*100)\n",
    "\n",
    "        "
   ]
  },
  {
   "cell_type": "code",
   "execution_count": 11,
   "metadata": {},
   "outputs": [
    {
     "name": "stdout",
     "output_type": "stream",
     "text": [
      "[ 9 29 23 14 24 69  3 72 63 47 11  0 46 66 18 62 68 54 22 67 37 16 32 56\n",
      " 57 58 35 42 53 41 33 71 49 50]\n"
     ]
    },
    {
     "data": {
      "text/plain": [
       "[[372, 72, 39, 23],\n",
       " [370, 73, 41, 25],\n",
       " [306, 139, 38, 37],\n",
       " [309, 140, 32, 41],\n",
       " [309, 139, 32, 44],\n",
       " [364, 157, 42, 21],\n",
       " [341, 170, 40, 48],\n",
       " [342, 168, 39, 52],\n",
       " [344, 176, 39, 48],\n",
       " [345, 174, 37, 52],\n",
       " [66, 192, 43, 51],\n",
       " [64, 188, 43, 57],\n",
       " [59, 192, 44, 62],\n",
       " [174, 231, 40, 23],\n",
       " [41, 238, 77, 35],\n",
       " [43, 233, 73, 44],\n",
       " [166, 238, 53, 22],\n",
       " [293, 243, 51, 26],\n",
       " [-21, 250, 71, 23],\n",
       " [-17, 246, 74, 28],\n",
       " [45, 238, 71, 39],\n",
       " [44, 235, 72, 45],\n",
       " [190, 250, 50, 24],\n",
       " [289, 248, 58, 24],\n",
       " [327, 246, 58, 42],\n",
       " [324, 240, 66, 55],\n",
       " [325, 250, 62, 42],\n",
       " [323, 245, 65, 53],\n",
       " [328, 255, 42, 67],\n",
       " [330, 254, 45, 71],\n",
       " [335, 258, 37, 74],\n",
       " [225, 68, 10, 16],\n",
       " [225, 67, 12, 17],\n",
       " [128, 81, 13, 6],\n",
       " [167, 74, 11, 16],\n",
       " [167, 71, 14, 19],\n",
       " [168, 71, 15, 19],\n",
       " [254, 73, 11, 19],\n",
       " [253, 72, 14, 18],\n",
       " [372, 74, 39, 19],\n",
       " [374, 77, 36, 18],\n",
       " [170, 93, 15, 6],\n",
       " [232, 84, 9, 22],\n",
       " [224, 90, 20, 24],\n",
       " [224, 88, 19, 27],\n",
       " [190, 102, 24, 11],\n",
       " [191, 103, 24, 10],\n",
       " [224, 92, 15, 24],\n",
       " [224, 92, 15, 23],\n",
       " [376, 120, 29, 13],\n",
       " [288, 120, 23, 22],\n",
       " [294, 115, 25, 33],\n",
       " [321, 128, 25, 11],\n",
       " [335, 128, 33, 9],\n",
       " [53, 134, 27, 10],\n",
       " [297, 124, 23, 25],\n",
       " [297, 121, 22, 31],\n",
       " [320, 130, 29, 11],\n",
       " [351, 132, 33, 11],\n",
       " [353, 133, 34, 10],\n",
       " [395, 146, 34, 12],\n",
       " [384, 150, 34, 10],\n",
       " [393, 148, 37, 12],\n",
       " [413, 151, 34, 12],\n",
       " [429, 150, 38, 13],\n",
       " [311, 143, 30, 40],\n",
       " [426, 153, 40, 15],\n",
       " [456, 156, 34, 12],\n",
       " [72, 162, 32, 14],\n",
       " [363, 159, 41, 15],\n",
       " [73, 166, 31, 13],\n",
       " [172, 235, 37, 16],\n",
       " [362, 245, 20, 24],\n",
       " [360, 244, 21, 24],\n",
       " [361, 246, 20, 24]]"
      ]
     },
     "execution_count": 11,
     "metadata": {},
     "output_type": "execute_result"
    }
   ],
   "source": [
    "indexes=cv.dnn.NMSBoxes(boxes,predictions,0.5,0.4)\n",
    "print(indexes.flatten())\n",
    "boxes\n"
   ]
  },
  {
   "cell_type": "code",
   "execution_count": 12,
   "metadata": {},
   "outputs": [],
   "source": [
    "colors=np.random.uniform(0,255,size=(len(boxes),3))"
   ]
  },
  {
   "cell_type": "code",
   "execution_count": 13,
   "metadata": {},
   "outputs": [],
   "source": [
    "for i in indexes.flatten():\n",
    "    x,y,w,h=boxes[i]\n",
    "    lable=str(classes[class_ids[i]])\n",
    "    text=\"{}, {:.2f}%\".format(lable,predictions[i]*100)\n",
    "    color=colors[i]\n",
    "    cv.rectangle(img,(x,y),(x+w,y+h),color,2)\n",
    "    cv.putText(img,text, (x,y+20), cv.FONT_HERSHEY_PLAIN, 2, (255,255,255), 2)\n",
    "    \n",
    "cv.imshow('Image',img)\n",
    "cv.waitKey(0)\n",
    "cv.destroyAllWindows()"
   ]
  },
  {
   "cell_type": "code",
   "execution_count": null,
   "metadata": {},
   "outputs": [],
   "source": []
  },
  {
   "cell_type": "code",
   "execution_count": null,
   "metadata": {},
   "outputs": [],
   "source": []
  },
  {
   "cell_type": "code",
   "execution_count": null,
   "metadata": {},
   "outputs": [],
   "source": []
  }
 ],
 "metadata": {
  "kernelspec": {
   "display_name": "Python 3",
   "language": "python",
   "name": "python3"
  },
  "language_info": {
   "codemirror_mode": {
    "name": "ipython",
    "version": 3
   },
   "file_extension": ".py",
   "mimetype": "text/x-python",
   "name": "python",
   "nbconvert_exporter": "python",
   "pygments_lexer": "ipython3",
   "version": "3.8.5"
  }
 },
 "nbformat": 4,
 "nbformat_minor": 4
}
